{
 "cells": [
  {
   "cell_type": "markdown",
   "metadata": {},
   "source": [
    "## ARRAYS:\n",
    "\n",
    "* Retrieveing and updating array A[i] takes $O(1)$ time\n",
    "* Size of array is fixed which makes **adding new elements impossible**\n",
    "* Deletion at location 'i' can be handled by an auxiliary Boolean which tells if deletion is valid request.\n",
    "* Contiguous blocks of memory  \n",
    "\n",
    "**Insertion into Array:**\n",
    "* Create another array with double size on initial array\n",
    "* Copy initial array into new one and insert new element\n",
    "\n"
   ]
  }
 ],
 "metadata": {
  "kernelspec": {
   "display_name": "Python 3",
   "language": "python",
   "name": "python3"
  },
  "language_info": {
   "codemirror_mode": {
    "name": "ipython",
    "version": 3
   },
   "file_extension": ".py",
   "mimetype": "text/x-python",
   "name": "python",
   "nbconvert_exporter": "python",
   "pygments_lexer": "ipython3",
   "version": "3.5.2"
  }
 },
 "nbformat": 4,
 "nbformat_minor": 2
}
