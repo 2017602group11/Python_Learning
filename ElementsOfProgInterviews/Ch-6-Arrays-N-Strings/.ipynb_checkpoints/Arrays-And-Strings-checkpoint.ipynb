{
 "cells": [
  {
   "cell_type": "markdown",
   "metadata": {},
   "source": [
    "## ARRAYS:\n",
    "\n",
    "* Retrieveing and updating array A[i] takes $O(1)$ time\n",
    "* Size of array is fixed which makes **adding new elements impossible**\n",
    "* Deletion at location 'i' can be handled by an auxiliary Boolean which tells if deletion is valid request.\n",
    "* Contiguous blocks of memory  \n",
    "\n",
    "**Insertion into Array:**\n",
    "* Create another array with double size on initial array\n",
    "* Copy initial array into new one and insert new element\n",
    "\n"
   ]
  },
  {
   "cell_type": "code",
   "execution_count": 5,
   "metadata": {
    "collapsed": false
   },
   "outputs": [
    {
     "name": "stdout",
     "output_type": "stream",
     "text": [
      "[1, 1, 2, 1, 2, 2, 1, 2, 3, 3, 3]\n"
     ]
    }
   ],
   "source": [
    "#Problem 6.1 : Dutch National Flag\n",
    "\"\"\"\n",
    "Write a function that takes an array A and an index i into A, and\n",
    "rearranges the elements such that all elements less than A[i]appearfirst, followed by elements\n",
    "equal to A[i], followed by elements greater than A[i], Your algorithm. should have 0(1) space\n",
    "complexity and 0(|A|)time complexity.\n",
    "\n",
    "\n",
    "e-Variant 6.1.1 Assuming that keys take one of three values, reorder the array so that\n",
    "all objects of the same key appear in the same subarray. The order of the subarrays\n",
    "is not important. For example, both Figures 6.1(b) and 6.1(c) on Page 53 are valid\n",
    "answers for Figure 6.1(a) on Page 53. Use 0(1) additional space and O(|A|) time.\n",
    "\n",
    "e-Variant 6.1.3: Given an array A of objects with Boolean-valued keys, reorder the\n",
    "array so that all objects that have the same key appear in the same sub array.\n",
    "\n",
    "\n",
    "\"\"\"\n",
    "\n",
    "def dutchFlagArrange(A,pi):\n",
    "    piv=A[pi]\n",
    "    s=0\n",
    "    e=0\n",
    "    l=len(A)-1\n",
    "    while e<=l:\n",
    "        if A[e]<piv:\n",
    "            A[e], A[s] = A[s], A[e]\n",
    "            s+=1\n",
    "            e+=1\n",
    "        elif A[e]==piv :\n",
    "            e+=1\n",
    "        else:\n",
    "            # A[e] > piv\n",
    "            A[e], A[l] = A[l], A[e]\n",
    "            l-=1\n",
    "    return(A)\n",
    "  \n",
    "\n",
    "\n",
    "l=[1,3,1,2,1,2,3,2,1,2,3]\n",
    "print(dutchFlagArrange(l,1))\n",
    "        "
   ]
  },
  {
   "cell_type": "code",
   "execution_count": null,
   "metadata": {
    "collapsed": true
   },
   "outputs": [],
   "source": [
    "#Variant 6.1.1 : Dutch National Flag\n",
    "\n",
    "\n"
   ]
  }
 ],
 "metadata": {
  "kernelspec": {
   "display_name": "Python 3",
   "language": "python",
   "name": "python3"
  },
  "language_info": {
   "codemirror_mode": {
    "name": "ipython",
    "version": 3
   },
   "file_extension": ".py",
   "mimetype": "text/x-python",
   "name": "python",
   "nbconvert_exporter": "python",
   "pygments_lexer": "ipython3",
   "version": "3.5.2"
  }
 },
 "nbformat": 4,
 "nbformat_minor": 2
}
