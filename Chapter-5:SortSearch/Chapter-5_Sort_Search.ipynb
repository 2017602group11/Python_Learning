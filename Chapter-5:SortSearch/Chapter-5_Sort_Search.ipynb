{
 "cells": [
  {
   "cell_type": "markdown",
   "metadata": {},
   "source": [
    "**Creating a Hash Map ADT**"
   ]
  },
  {
   "cell_type": "code",
   "execution_count": 33,
   "metadata": {
    "collapsed": false
   },
   "outputs": [],
   "source": [
    "class HashTable:\n",
    "    def __init__(self):\n",
    "        self.size =11\n",
    "        self.keys = [None]*self.size\n",
    "        self.values=[None]*self.size\n",
    "        \n",
    "    def put(self,key,value):\n",
    "        hashvalue=self.hashfunction(key,len(self.keys))\n",
    "        if self.keys[hashvalue]==None:\n",
    "            self.keys[hashvalue]=key\n",
    "            self.values[hashvalue]=value\n",
    "        else:\n",
    "            if self.keys[hashvalue]==key:\n",
    "                self.values[hashvalue]=value #replace\n",
    "            else:\n",
    "                newslot=self.rehash(key, len(self.keys))\n",
    "                while self.keys[newslot]!=None and self.keys(newslot)!=key:\n",
    "                    newslot=self.rehash(key, len(self.keys))\n",
    "                \n",
    "                if self.keys[newslot]==None:\n",
    "                    self.keys[newslot]=key\n",
    "                    self.values[newslot]=value\n",
    "                else:\n",
    "                    self.values[newslot]=value #replace\n",
    "        \n",
    "        \n",
    "    def hashfunction(self,key, size):\n",
    "        return key%size\n",
    "    \n",
    "    def rehash(self,oldhash,size):\n",
    "        return (oldhash+1)%size\n",
    "    \n",
    "    \n",
    "    def get(self,key):\n",
    "        startslot=self.hashfunction(key,len(self.keys))\n",
    "        data =None\n",
    "        stop=False\n",
    "        found=False\n",
    "        position=startslot\n",
    "        while self.keys[position]!=None and not stop and not found:\n",
    "            if self.keys[position]==key:\n",
    "                found=True\n",
    "                data= self.values[position]\n",
    "            else:\n",
    "                position=self.rehash(position,len(self.keys))\n",
    "                if position == startslot:\n",
    "                    stop = True\n",
    "                \n",
    "        return data"
   ]
  },
  {
   "cell_type": "code",
   "execution_count": 34,
   "metadata": {
    "collapsed": false
   },
   "outputs": [
    {
     "name": "stdout",
     "output_type": "stream",
     "text": [
      "[55, 66, None, None, None, None, None, None, None, None, 54]\n",
      "['man', 'monkey', None, None, None, None, None, None, None, None, 'dog']\n",
      "man\n",
      "monkey\n"
     ]
    }
   ],
   "source": [
    "H=HashTable()\n",
    "H.put(54,\"cat\")\n",
    "H.put(54,\"dog\")\n",
    "H.put(55,\"man\")\n",
    "H.put(66,\"monkey\")\n",
    "\n",
    "\n",
    "print(H.keys)\n",
    "print(H.values)\n",
    "\n",
    "print(H.get(55))\n",
    "\n",
    "print(H.get(66))"
   ]
  }
 ],
 "metadata": {
  "kernelspec": {
   "display_name": "Python 3",
   "language": "python",
   "name": "python3"
  },
  "language_info": {
   "codemirror_mode": {
    "name": "ipython",
    "version": 3
   },
   "file_extension": ".py",
   "mimetype": "text/x-python",
   "name": "python",
   "nbconvert_exporter": "python",
   "pygments_lexer": "ipython3",
   "version": "3.5.2"
  }
 },
 "nbformat": 4,
 "nbformat_minor": 2
}
