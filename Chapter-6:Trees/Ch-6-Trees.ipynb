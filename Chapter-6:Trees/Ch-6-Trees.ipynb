{
 "cells": [
  {
   "cell_type": "markdown",
   "metadata": {},
   "source": [
    "# 6.5. Nodes and References\n",
    "In this representation the class has attributes for root and left and right subtrees.\n",
    "![Trees](http://interactivepython.org/courselib/static/pythonds/_images/treerecs.png)\n",
    "\n",
    "**Two cases for insertion:** \n",
    "* The first case is characterized by a node with no existing left child. When there is no left child, simply add a node to the tree. \n",
    "* The second case is characterized by a node with an existing left child. In the second case, we insert a node and push the existing child down one level in the tree."
   ]
  },
  {
   "cell_type": "code",
   "execution_count": 42,
   "metadata": {
    "collapsed": true
   },
   "outputs": [],
   "source": [
    "class BinaryTree:\n",
    "    def __init__(self, rootObj):\n",
    "        self.key = rootObj\n",
    "        self.leftChild =None\n",
    "        self.rightChild=None\n",
    "        \n",
    "    def insertLeft(self, newNode):\n",
    "        if self.leftChild == None:\n",
    "            self.leftChild == BinaryTree(newNode)\n",
    "        else:\n",
    "            t = BinaryTree(newNode)\n",
    "            t.leftChild = self.leftchild\n",
    "            self.leftChild = t\n",
    "            \n",
    "            \n",
    "    def insertRight(self, newNode):\n",
    "        if self.rightChild == None:\n",
    "            self.rightChild = BinaryTree(newNode)\n",
    "        else:\n",
    "            t=BinaryTree(newNode)\n",
    "            t.rightChild=self.rightChild\n",
    "            self.rightChild=t\n",
    "    \n",
    "    def getRightChild(self):\n",
    "        return self.rightChild\n",
    "\n",
    "    def getLeftChild(self):\n",
    "        return self.leftChild\n",
    "\n",
    "    def setRootVal(self,obj):\n",
    "        self.key = obj\n",
    "\n",
    "    def getRootVal(self):\n",
    "        return self.key"
   ]
  },
  {
   "cell_type": "markdown",
   "metadata": {},
   "source": [
    "![](http://interactivepython.org/courselib/static/pythonds/_images/tree_ex.png)"
   ]
  },
  {
   "cell_type": "code",
   "execution_count": null,
   "metadata": {
    "collapsed": false
   },
   "outputs": [],
   "source": []
  }
 ],
 "metadata": {
  "kernelspec": {
   "display_name": "Python 3",
   "language": "python",
   "name": "python3"
  },
  "language_info": {
   "codemirror_mode": {
    "name": "ipython",
    "version": 3
   },
   "file_extension": ".py",
   "mimetype": "text/x-python",
   "name": "python",
   "nbconvert_exporter": "python",
   "pygments_lexer": "ipython3",
   "version": "3.5.2"
  }
 },
 "nbformat": 4,
 "nbformat_minor": 2
}
