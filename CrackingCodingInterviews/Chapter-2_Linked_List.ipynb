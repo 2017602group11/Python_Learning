{
 "cells": [
  {
   "cell_type": "markdown",
   "metadata": {},
   "source": [
    "** Single Linked List:** Each node points to next node.\n",
    "** Doubly Linked List:** Each node points to next and previous nodes.\n",
    "\n",
    "** Advantages of LL over arrays:**\n",
    "1. Arrays have fixed size. LL are dynamic\n",
    "2. insertion/Deletion in arrays is expensive. In array whenever an element is to be inserted at some location, elements to the right have to be shifted.\n",
    "\n",
    "** Disdvantages of LL over arrays:**\n",
    "1. Random access of elements is not allowed. LL has to be traversed from the head. SO, BINARY SEARCH IS NOT POSSIBLE IN LL.\n",
    "2. Extra memory space required for the pointers.\n",
    "3. Arrays have better cache locality because of contiguous allocation. Performance is hit in LL.\n",
    "\n",
    "\n",
    "*NOTE: In Linked List it is only required to store the first node or head.*"
   ]
  },
  {
   "cell_type": "markdown",
   "metadata": {
    "collapsed": true
   },
   "source": [
    "## Implementing singly LL:\n",
    "The list only needs to point to the head.  \n",
    "Head: It is simply a pointer to the first node.\n",
    "\n",
    "<img src='http://interactivepython.org/courselib/static/pythonds/_images/linkedlist.png'></img>"
   ]
  },
  {
   "cell_type": "code",
   "execution_count": 24,
   "metadata": {
    "collapsed": false
   },
   "outputs": [
    {
     "name": "stdout",
     "output_type": "stream",
     "text": [
      "3\n",
      "1\n"
     ]
    }
   ],
   "source": [
    "# node class stores data and points to next node in LL.\n",
    "\n",
    "class Node:\n",
    "    def __init__(self,initdata):\n",
    "        self.data=initdata\n",
    "        self.next=None\n",
    "        \n",
    "    def getdata(self):\n",
    "        return self.data\n",
    "    \n",
    "    def getnext(self):\n",
    "        return self.next\n",
    "    \n",
    "    def setdata(self,newdata):\n",
    "        self.data= newdata\n",
    "        \n",
    "    def setnext(self,newnext):\n",
    "        self.next=newnext\n",
    "        \n",
    "        \n",
    "n=Node(3)\n",
    "print(n.getdata())\n",
    "\n",
    "n.setnext(Node(1))\n",
    "\n",
    "print((n.getnext()).getdata())"
   ]
  },
  {
   "cell_type": "markdown",
   "metadata": {},
   "source": [
    "Adding item to Linked List.\n",
    "\n",
    "<img src=\"http://interactivepython.org/courselib/static/pythonds/_images/addtohead.png\"></img>"
   ]
  },
  {
   "cell_type": "code",
   "execution_count": 83,
   "metadata": {
    "collapsed": false
   },
   "outputs": [
    {
     "name": "stdout",
     "output_type": "stream",
     "text": [
      "True\n",
      "False\n",
      "3\n",
      "2\n",
      "1\n",
      "<__main__.Node object at 0x7fb2801faa20>\n",
      "35\n",
      "10\n",
      "size= 6 elements\n",
      "True\n",
      "False\n",
      "found 1\n",
      "3\n",
      "2\n",
      "<__main__.Node object at 0x7fb2801faa20>\n",
      "35\n",
      "10\n",
      "5\n"
     ]
    }
   ],
   "source": [
    "class singlyLL:\n",
    "    def __init__(self):\n",
    "        self.head=None\n",
    "        \n",
    "    def isEmpty(self):\n",
    "        return self.head==None\n",
    "    \n",
    "    def addHead(self,item):\n",
    "        temp=Node(item)\n",
    "        temp.setnext(self.head)\n",
    "        self.head=temp\n",
    "        \n",
    "    def addTail(self,item):\n",
    "        current=self.head\n",
    "        while (current.getnext()!=None):\n",
    "            current=current.getnext()\n",
    "            \n",
    "        current.setnext(Node(item))\n",
    "        \n",
    "    def size(self):\n",
    "        current=self.head\n",
    "        count=0\n",
    "        while current!=None:\n",
    "            print(current.getdata())\n",
    "            current=current.getnext()\n",
    "            count+=1\n",
    "        return count\n",
    "        \n",
    "        \n",
    "    def search(self,item):\n",
    "        current=self.head\n",
    "        found=False\n",
    "        while not found and current!=None:\n",
    "            found = current.getdata()==item\n",
    "            current=current.getnext()\n",
    "        return found\n",
    "    \n",
    "    def remove(self,item):\n",
    "        current = self.head\n",
    "        found = False\n",
    "        previous= None\n",
    "        while not found and current!=None:\n",
    "            if current.getdata()==item:\n",
    "                found =True\n",
    "                print('found {0}'.format(item))\n",
    "            else:\n",
    "                previous=current\n",
    "                current=current.getnext()\n",
    "        if previous ==None:\n",
    "            self.head=current.getnext()\n",
    "        elif found:\n",
    "            previous.setnext(current.getnext())\n",
    "            \n",
    "            \n",
    "sLL=singlyLL()\n",
    "print(sLL.isEmpty())\n",
    "\n",
    "sLL.addHead(n)\n",
    "print(sLL.isEmpty())\n",
    "\n",
    "sLL.addHead(1)\n",
    "sLL.addHead(2)\n",
    "sLL.addHead(3)\n",
    "sLL.addTail(35)\n",
    "sLL.addTail(10)\n",
    "\n",
    "print('size= {0} elements'.format(sLL.size()))\n",
    "\n",
    "print(sLL.search(35))\n",
    "print(sLL.search(36))\n",
    "\n",
    "\n",
    "sLL.remove(1)\n",
    "print(sLL.size())"
   ]
  },
  {
   "cell_type": "markdown",
   "metadata": {},
   "source": [
    "#### Doubly LL:\n",
    "* Each node carries extra pointer to the previous node.\n",
    "<img src=\"http://quiz.geeksforgeeks.org/wp-content/uploads/2014/03/DLL1.png\">\n"
   ]
  },
  {
   "cell_type": "code",
   "execution_count": 91,
   "metadata": {
    "collapsed": false
   },
   "outputs": [],
   "source": [
    "class Node:\n",
    "    def __init__(self,initdata):\n",
    "        self.data=initdata\n",
    "        self.previous=None\n",
    "        self.next=None\n",
    "    \n",
    "class doublyLL:\n",
    "    def __init__(self):\n",
    "        self.head=None\n",
    "    \n",
    "    def addHead(self,item):\n",
    "        newNode= Node(item)\n",
    "        newNode.next=self.head\n",
    "        \n",
    "        if self.head is not None:\n",
    "            self.head.previous=newNode\n",
    "            \n",
    "        self.head=newNode\n",
    "        \n",
    "dLL=doublyLL()\n",
    "\n",
    "dLL.addHead(1)\n",
    "        "
   ]
  }
 ],
 "metadata": {
  "kernelspec": {
   "display_name": "Python 3",
   "language": "python",
   "name": "python3"
  },
  "language_info": {
   "codemirror_mode": {
    "name": "ipython",
    "version": 3
   },
   "file_extension": ".py",
   "mimetype": "text/x-python",
   "name": "python",
   "nbconvert_exporter": "python",
   "pygments_lexer": "ipython3",
   "version": "3.5.2"
  }
 },
 "nbformat": 4,
 "nbformat_minor": 2
}
