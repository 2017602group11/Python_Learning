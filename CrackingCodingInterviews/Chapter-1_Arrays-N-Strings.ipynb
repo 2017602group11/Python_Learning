{
 "cells": [
  {
   "cell_type": "markdown",
   "metadata": {},
   "source": [
    "### 1.1 Implement an algorithm to determine if a string has all unique characters. What if you can not use additional data structures?"
   ]
  },
  {
   "cell_type": "code",
   "execution_count": 27,
   "metadata": {
    "collapsed": false
   },
   "outputs": [
    {
     "name": "stdout",
     "output_type": "stream",
     "text": [
      "True\n",
      "False\n"
     ]
    }
   ],
   "source": [
    "# SolA: O(nlogn)\n",
    "\n",
    "def isUnique1(word):\n",
    "    lst=list(word)\n",
    "    lst=sorted(lst)\n",
    "    i=1\n",
    "    unique = True\n",
    "    while i<len(lst) and unique:\n",
    "        if lst[i-1]==lst[i]:\n",
    "            unique = False\n",
    "        i+=1\n",
    "    return unique\n",
    "\n",
    "print(isUnique1('rafi'))\n",
    "print(isUnique1('raafi'))"
   ]
  },
  {
   "cell_type": "code",
   "execution_count": 47,
   "metadata": {
    "collapsed": false
   },
   "outputs": [
    {
     "name": "stdout",
     "output_type": "stream",
     "text": [
      "True\n",
      "False\n"
     ]
    }
   ],
   "source": [
    "# SolB: time=O(n) ; space = O(n)\n",
    "def isUnique2(word):\n",
    "    boolArr=[False]*256\n",
    "    for s in word:\n",
    "        if boolArr[ord(s)]: return False\n",
    "        boolArr[ord(s)]=True\n",
    "    return True\n",
    "        \n",
    "print(isUnique2('rafi'))\n",
    "print(isUnique2('raafi'))"
   ]
  },
  {
   "cell_type": "code",
   "execution_count": 69,
   "metadata": {
    "collapsed": false
   },
   "outputs": [
    {
     "name": "stdout",
     "output_type": "stream",
     "text": [
      "False\n",
      "True\n"
     ]
    }
   ],
   "source": [
    "# SolC: time=O(n) ; space = O(1)\n",
    "def isUnique3(word):\n",
    "    check=0;\n",
    "    for s in word:\n",
    "        val=ord(s)\n",
    "        if(check & (1<<val)) > 0: return False\n",
    "        check=check | 1<<val\n",
    "    return True\n",
    "\n",
    "print(isUnique3('rafi'))\n",
    "print(isUnique3('raafi'))"
   ]
  }
 ],
 "metadata": {
  "kernelspec": {
   "display_name": "Python 3",
   "language": "python",
   "name": "python3"
  },
  "language_info": {
   "codemirror_mode": {
    "name": "ipython",
    "version": 3
   },
   "file_extension": ".py",
   "mimetype": "text/x-python",
   "name": "python",
   "nbconvert_exporter": "python",
   "pygments_lexer": "ipython3",
   "version": "3.5.2"
  }
 },
 "nbformat": 4,
 "nbformat_minor": 2
}
