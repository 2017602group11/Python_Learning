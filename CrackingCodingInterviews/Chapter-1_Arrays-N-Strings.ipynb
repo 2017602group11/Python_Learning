{
 "cells": [
  {
   "cell_type": "markdown",
   "metadata": {},
   "source": [
    "### 1.1 Implement an algorithm to determine if a string has all unique characters. What if you can not use additional data structures?"
   ]
  },
  {
   "cell_type": "code",
   "execution_count": 60,
   "metadata": {
    "collapsed": false
   },
   "outputs": [
    {
     "name": "stdout",
     "output_type": "stream",
     "text": [
      "True\n",
      "False\n"
     ]
    }
   ],
   "source": [
    "# SolA: O(nlogn)\n",
    "\n",
    "def isUnique1(word):\n",
    "    lst=list(word)\n",
    "    lst=sorted(lst)\n",
    "    i=1\n",
    "    unique = True\n",
    "    while i<len(lst) and unique:\n",
    "        if lst[i-1]==lst[i]:\n",
    "            unique = False\n",
    "        i+=1\n",
    "    return unique\n",
    "\n",
    "print(isUnique1('rafi'))\n",
    "print(isUnique1('raafi'))"
   ]
  },
  {
   "cell_type": "code",
   "execution_count": 61,
   "metadata": {
    "collapsed": false
   },
   "outputs": [
    {
     "name": "stdout",
     "output_type": "stream",
     "text": [
      "True\n",
      "False\n"
     ]
    }
   ],
   "source": [
    "# SolB: time=O(n) ; space = O(n)\n",
    "def isUnique2(word):\n",
    "    boolArr=[False]*256\n",
    "    for s in word:\n",
    "        if boolArr[ord(s)]: return False\n",
    "        boolArr[ord(s)]=True\n",
    "    return True\n",
    "        \n",
    "print(isUnique2('rafi'))\n",
    "print(isUnique2('raafi'))"
   ]
  },
  {
   "cell_type": "code",
   "execution_count": 62,
   "metadata": {
    "collapsed": false
   },
   "outputs": [
    {
     "name": "stdout",
     "output_type": "stream",
     "text": [
      "True\n",
      "False\n"
     ]
    }
   ],
   "source": [
    "# SolC: time=O(n) ; space = O(1)\n",
    "def isUnique3(word):\n",
    "    check=0;\n",
    "    for s in word:\n",
    "        val=ord(s)\n",
    "        if(check & (1<<val)) > 0: return False\n",
    "        check=check | 1<<val\n",
    "    return True\n",
    "\n",
    "print(isUnique3('rafi'))\n",
    "print(isUnique3('raafi'))"
   ]
  },
  {
   "cell_type": "markdown",
   "metadata": {},
   "source": [
    "### 1.2 Write code to reverse a C-Style String. (C-String means that “abcd” is represented as five characters, including the null character.)\n",
    "\n",
    " In a C-style string last character is null terminator."
   ]
  },
  {
   "cell_type": "code",
   "execution_count": 63,
   "metadata": {
    "collapsed": false
   },
   "outputs": [
    {
     "name": "stdout",
     "output_type": "stream",
     "text": [
      "zevrap\u0000\n"
     ]
    }
   ],
   "source": [
    "def rev_C_String(word):\n",
    "    rev_word=word[:-1][::-1]+word[-1]\n",
    "    return rev_word\n",
    "    \n",
    "print(rev_C_String('parvez\\0'))"
   ]
  },
  {
   "cell_type": "markdown",
   "metadata": {},
   "source": [
    "### 1.3\t Design an algorithm and write code to remove the duplicate characters in a string without using any additional buffer. NOTE: One or two additional variables are fine. An extra copy of the array is not.\n",
    "#### FOLLOW UP : Write the test cases for this method."
   ]
  },
  {
   "cell_type": "code",
   "execution_count": 64,
   "metadata": {
    "collapsed": false
   },
   "outputs": [
    {
     "name": "stdout",
     "output_type": "stream",
     "text": [
      "abcd\n"
     ]
    }
   ],
   "source": [
    "#method1:\n",
    "def removeDuplicate1(word):\n",
    "    check=0\n",
    "    new_word=\"\"\n",
    "    for s in word:\n",
    "        val=ord(s)\n",
    "        if(check&1<<val==0):\n",
    "            check=check|1<<val\n",
    "            new_word+=s\n",
    "    return new_word\n",
    "\n",
    "print(removeDuplicate1(\"abcabd\"))"
   ]
  },
  {
   "cell_type": "code",
   "execution_count": 65,
   "metadata": {
    "collapsed": false
   },
   "outputs": [
    {
     "name": "stdout",
     "output_type": "stream",
     "text": [
      "abcdef\n"
     ]
    }
   ],
   "source": [
    "#method2: Without using extra memory\n",
    "def removeDuplicate2(word):\n",
    "    if word=='': return\n",
    "    wlen=len(word)\n",
    "    if wlen<2: return word\n",
    "    \n",
    "    word=list(word)\n",
    "    u=1\n",
    "    for i in range(1,wlen):\n",
    "        j=0\n",
    "        dupli=False\n",
    "        while(j<u) and not dupli:\n",
    "            if (word[j]==word[i]):\n",
    "                dupli=True\n",
    "            j+=1\n",
    "        if(dupli): continue\n",
    "        else:\n",
    "            word[u]=word[i]\n",
    "            u+=1\n",
    "    word[u]='\\0'\n",
    "    return \"\".join(word).split('\\0')[0]\n",
    "print(removeDuplicate2(\"aabbcadcaef\"))"
   ]
  },
  {
   "cell_type": "code",
   "execution_count": 66,
   "metadata": {
    "collapsed": false
   },
   "outputs": [
    {
     "name": "stdout",
     "output_type": "stream",
     "text": [
      "abcdef\n"
     ]
    }
   ],
   "source": [
    "#method3: Using extra space and hashing\n",
    "def removeDuplicate3(word):\n",
    "    w_len=len(word)\n",
    "    if w_len<2: return word\n",
    "    u_word=''\n",
    "    boolArr=[False]*256\n",
    "    \n",
    "    for w in word:\n",
    "        if not boolArr[ord(w)]:\n",
    "            u_word=u_word+w\n",
    "            boolArr[ord(w)]=True\n",
    "    return u_word\n",
    "print(removeDuplicate3(\"aabbcadcaef\"))"
   ]
  },
  {
   "cell_type": "markdown",
   "metadata": {},
   "source": [
    "### 1.4\tWrite a method to decide if two strings are anagrams or not."
   ]
  },
  {
   "cell_type": "code",
   "execution_count": 67,
   "metadata": {
    "collapsed": false
   },
   "outputs": [
    {
     "name": "stdout",
     "output_type": "stream",
     "text": [
      "True\n",
      "False\n"
     ]
    }
   ],
   "source": [
    "#method1: Sort and check\n",
    "\n",
    "def isAnagram1(word1,word2):\n",
    "    return sorted(word1) == sorted(word2)\n",
    "\n",
    "print(isAnagram1('par','rap'))\n",
    "print(isAnagram1('par','parv'))"
   ]
  },
  {
   "cell_type": "code",
   "execution_count": 68,
   "metadata": {
    "collapsed": false
   },
   "outputs": [
    {
     "name": "stdout",
     "output_type": "stream",
     "text": [
      "False\n"
     ]
    }
   ],
   "source": [
    "#method2: Count characters in each of the word\n",
    "\n",
    "def isAnagram2(word1,word2):\n",
    "    if len(word1)!=len(word2): return False\n",
    "    \n",
    "    unique_elt_w1=0\n",
    "    unique_elt_w2=0\n",
    "    intArr=[0]*256\n",
    "    \n",
    "    for w in word1:\n",
    "        if intArr[ord(w)]==0: unique_elt_w1+=1\n",
    "        intArr[ord(w)]+=1\n",
    "    \n",
    "    for s in word2:\n",
    "        if intArr[ord(s)]==0: return False\n",
    "    \n",
    "        intArr[ord(s)]-=1\n",
    "        if intArr[ord(s)]==0: unique_elt_w2+=1\n",
    "        \n",
    "        if unique_elt_w2==unique_elt_w1: return True\n",
    "    \n",
    "    return False\n",
    "\n",
    "print(isAnagram2('appar','raaps'))"
   ]
  },
  {
   "cell_type": "markdown",
   "metadata": {},
   "source": [
    "### 1.5 Write a method to replace all spaces in a string with ‘%20’."
   ]
  },
  {
   "cell_type": "code",
   "execution_count": 69,
   "metadata": {
    "collapsed": false
   },
   "outputs": [
    {
     "name": "stdout",
     "output_type": "stream",
     "text": [
      "pa%20rv%20\n"
     ]
    }
   ],
   "source": [
    "def rep_space(word):\n",
    "    w_list=list(word)\n",
    "    w_len=len(word)\n",
    "    \n",
    "    for i in range(w_len):\n",
    "        if w_list[i]==' ': w_list[i]='%20'\n",
    "    \n",
    "    return ''.join(w_list)\n",
    "\n",
    "print(rep_space('pa rv '))"
   ]
  },
  {
   "cell_type": "markdown",
   "metadata": {},
   "source": [
    "### 1.6 Given an image represented by an NxN matrix, where each pixel in the image is 4bytes, write a method to rotate the image by 90 degrees. Can you do this in place?"
   ]
  },
  {
   "cell_type": "code",
   "execution_count": 70,
   "metadata": {
    "collapsed": false
   },
   "outputs": [
    {
     "name": "stdout",
     "output_type": "stream",
     "text": [
      "[[1, 2, 3, 4], [5, 6, 7, 8], [9, 10, 11, 12], [13, 14, 15, 16]]\n",
      "[[16, 12, 8, 4], [16, 12, 8, 4], [16, 12, 8, 4], [16, 12, 8, 4]]\n"
     ]
    }
   ],
   "source": [
    "#Method 1: Using additional storage\n",
    "def rotate_mat1(mat):\n",
    "    N=len(mat)\n",
    "    #new_mat=[[0 for x in range(N)] for y in range(N)]\n",
    "    new_mat=[[0]*N]*N\n",
    "    for i in range(N):\n",
    "        for j in range(N):\n",
    "            new_mat[i][j]=mat[N - j - 1][i];\n",
    "    return new_mat\n",
    "    \n",
    "mat=[[1,2,3,4],[5,6,7,8],[9,10,11,12],[13,14,15,16]]\n",
    "print(mat)\n",
    "print(rotate_mat1(mat))"
   ]
  },
  {
   "cell_type": "code",
   "execution_count": 71,
   "metadata": {
    "collapsed": false
   },
   "outputs": [
    {
     "name": "stdout",
     "output_type": "stream",
     "text": [
      "[[1, 2, 3, 4], [5, 6, 7, 8], [9, 10, 11, 12], [13, 14, 15, 16]]\n",
      "[[13, 9, 5, 1], [14, 10, 6, 2], [15, 11, 7, 3], [16, 12, 8, 4]]\n"
     ]
    }
   ],
   "source": [
    "#Method 2\n",
    "def rotate_mat2(mat):\n",
    "    N=len(mat)\n",
    "    for layer in range(N//2):\n",
    "        first=layer\n",
    "        last=N-1-layer\n",
    "        for i in range(first, last):\n",
    "            offset=i-first\n",
    "            top=mat[first][i]\n",
    "            mat[first][i] = mat[last-offset][first]\n",
    "            mat[last-offset][first]=mat[last][last-offset]\n",
    "            mat[last][last-offset] = mat[i][last]\n",
    "            mat[i][last] = top\n",
    "    return mat\n",
    "        \n",
    "mat=[[1,2,3,4],[5,6,7,8],[9,10,11,12],[13,14,15,16]]\n",
    "print(mat)\n",
    "print(rotate_mat2(mat))"
   ]
  },
  {
   "cell_type": "markdown",
   "metadata": {},
   "source": [
    "### 1.7\tWrite an algorithm such that if an element in an MxN matrix is 0, its entire row and column is set to 0."
   ]
  },
  {
   "cell_type": "code",
   "execution_count": 80,
   "metadata": {
    "collapsed": false
   },
   "outputs": [
    {
     "name": "stdout",
     "output_type": "stream",
     "text": [
      "[[0, 2, 3, 5], [4, 1, 6, 5], [7, 8, 9, 5]]\n",
      "[[0, 0, 0, 0], [0, 1, 6, 5], [0, 8, 9, 5]]\n"
     ]
    }
   ],
   "source": [
    "mat=[[0,2,3,5],[4,1,6,5],[7,8,9,5]]\n",
    "\n",
    "print(mat)\n",
    "\n",
    "M=len(mat)\n",
    "N=len(mat[0])\n",
    "\n",
    "\n",
    "row=[0]*M\n",
    "cols=[0]*N\n",
    "\n",
    "for i in range(M):\n",
    "    for j in range(N):\n",
    "        if mat[i][j]==0:\n",
    "            row[i]=1\n",
    "            cols[j]=1\n",
    "\n",
    "for i in range(M):\n",
    "    for j in range(N):\n",
    "        if (row[i]==1)|(cols[j]==1):\n",
    "            mat[i][j]=0\n",
    "\n",
    "print(mat)"
   ]
  },
  {
   "cell_type": "markdown",
   "metadata": {},
   "source": [
    "### 1.8 Assume you have a method isSubstring which checks if one word is a substring of another. Given two strings, s1 and s2, write code to check if s2 is a rotation of s1 using only one call to isSubstring (i.e., “waterbottle” is a rotation of “erbottlewat”)."
   ]
  },
  {
   "cell_type": "code",
   "execution_count": 89,
   "metadata": {
    "collapsed": false
   },
   "outputs": [
    {
     "name": "stdout",
     "output_type": "stream",
     "text": [
      "True\n"
     ]
    }
   ],
   "source": [
    "def isSubstring(substr,string):\n",
    "    return substr in string\n",
    "    \n",
    "def isRotation(s1,s2):\n",
    "    if len(s1)!=len(s2):\n",
    "        return False\n",
    "    \n",
    "    s2=s2+s2\n",
    "    \n",
    "    return(isSubstring(s1,s2))\n",
    "\n",
    "print(isRotation('vezpar','parvez'))\n",
    "\n",
    "\n"
   ]
  }
 ],
 "metadata": {
  "kernelspec": {
   "display_name": "Python 3",
   "language": "python",
   "name": "python3"
  },
  "language_info": {
   "codemirror_mode": {
    "name": "ipython",
    "version": 3
   },
   "file_extension": ".py",
   "mimetype": "text/x-python",
   "name": "python",
   "nbconvert_exporter": "python",
   "pygments_lexer": "ipython3",
   "version": "3.5.2"
  }
 },
 "nbformat": 4,
 "nbformat_minor": 2
}
